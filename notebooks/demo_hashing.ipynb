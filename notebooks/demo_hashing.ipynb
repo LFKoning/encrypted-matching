{
 "cells": [
  {
   "cell_type": "markdown",
   "metadata": {},
   "source": [
    "## DEMO: Hashing Trick and Cosine Similarity"
   ]
  },
  {
   "cell_type": "code",
   "execution_count": null,
   "metadata": {},
   "outputs": [],
   "source": [
    "%pip install mmh3 pandas sklearn"
   ]
  },
  {
   "cell_type": "code",
   "execution_count": null,
   "metadata": {},
   "outputs": [],
   "source": [
    "import sys\n",
    "\n",
    "import mmh3\n",
    "import pandas as pd\n",
    "\n",
    "from sklearn.feature_extraction.text import CountVectorizer, HashingVectorizer\n",
    "from sklearn.metrics.pairwise import cosine_similarity"
   ]
  },
  {
   "cell_type": "markdown",
   "metadata": {},
   "source": [
    "### Vectorizing names"
   ]
  },
  {
   "cell_type": "code",
   "execution_count": null,
   "metadata": {},
   "outputs": [],
   "source": [
    "# Using a Vectorizer\n",
    "vectorizer = CountVectorizer(\n",
    "    ngram_range=(3,3),\n",
    "    analyzer=\"char_wb\",\n",
    ")"
   ]
  },
  {
   "cell_type": "code",
   "execution_count": null,
   "metadata": {},
   "outputs": [],
   "source": [
    "# Transform the names\n",
    "vectors = vectorizer.fit_transform(\n",
    "    [\"mark jansen\", \"jip jansen\", \"mark vos\"]\n",
    ")\n",
    "vectors.todense()"
   ]
  },
  {
   "cell_type": "code",
   "execution_count": null,
   "metadata": {},
   "outputs": [],
   "source": [
    "# View generated vectors\n",
    "# Note: smaller ngrams around word boundaries.\n",
    "pd.DataFrame(\n",
    "    data=vectors.todense(),\n",
    "    columns=vectorizer.get_feature_names_out()\n",
    ")"
   ]
  },
  {
   "cell_type": "code",
   "execution_count": null,
   "metadata": {},
   "outputs": [],
   "source": [
    "# Compute cosine similarities\n",
    "cosine_similarity(vectors)"
   ]
  },
  {
   "cell_type": "code",
   "execution_count": null,
   "metadata": {},
   "outputs": [],
   "source": [
    "# Learns a vocabulary from the input data.\n",
    "vectorizer.vocabulary_"
   ]
  },
  {
   "cell_type": "code",
   "execution_count": null,
   "metadata": {},
   "outputs": [],
   "source": [
    "# Vocabulary can get large...\n",
    "sys.getsizeof(vectorizer.vocabulary_)"
   ]
  },
  {
   "cell_type": "markdown",
   "metadata": {},
   "source": [
    "### Hashing trick"
   ]
  },
  {
   "cell_type": "code",
   "execution_count": null,
   "metadata": {},
   "outputs": [],
   "source": [
    "# Hash of an ngram\n",
    "mmh3.hash(\"mar\")"
   ]
  },
  {
   "cell_type": "code",
   "execution_count": null,
   "metadata": {},
   "outputs": [],
   "source": [
    "# Modulo of the hash.\n",
    "mmh3.hash(\"mar\") % 10"
   ]
  },
  {
   "cell_type": "code",
   "execution_count": null,
   "metadata": {},
   "outputs": [],
   "source": [
    "# Use hasing trick to determine columns.\n",
    "n_columns = 10\n",
    "ngrams = [\"mar\", \"ark\", \"vos\", \"jan\", \"ans\", \"nse\", \"sen\", \"jip\"]\n",
    "\n",
    "for token in ngrams:\n",
    "    print(\"Token:       \", token)\n",
    "    print(\"Hashed:      \", mmh3.hash(token))\n",
    "    print(\"Column:      \", mmh3.hash(token) % n_columns)\n",
    "    print(\"-\" * 30)"
   ]
  },
  {
   "cell_type": "code",
   "execution_count": null,
   "metadata": {},
   "outputs": [],
   "source": [
    "# Create a HashingVectorizer.\n",
    "vectorizer = HashingVectorizer(\n",
    "    ngram_range=(3, 3),\n",
    "    analyzer=\"char_wb\",\n",
    "    n_features=20,\n",
    "    norm=None,\n",
    "    alternate_sign=False,\n",
    ")"
   ]
  },
  {
   "cell_type": "code",
   "execution_count": null,
   "metadata": {},
   "outputs": [],
   "source": [
    "# Transform the data.\n",
    "result = vectorizer.fit_transform([\"mark jansen\", \"jip jansen\", \"mark vos\"])\n",
    "result.todense()"
   ]
  },
  {
   "cell_type": "code",
   "execution_count": null,
   "metadata": {},
   "outputs": [],
   "source": [
    "# Compute cosine similarities.\n",
    "# Note: similar pattern as before.\n",
    "cosine_similarity(result)"
   ]
  },
  {
   "cell_type": "code",
   "execution_count": null,
   "metadata": {},
   "outputs": [],
   "source": []
  }
 ],
 "metadata": {
  "kernelspec": {
   "display_name": "encrypted-matching",
   "language": "python",
   "name": "python3"
  },
  "language_info": {
   "codemirror_mode": {
    "name": "ipython",
    "version": 3
   },
   "file_extension": ".py",
   "mimetype": "text/x-python",
   "name": "python",
   "nbconvert_exporter": "python",
   "pygments_lexer": "ipython3",
   "version": "3.11.10"
  }
 },
 "nbformat": 4,
 "nbformat_minor": 2
}
