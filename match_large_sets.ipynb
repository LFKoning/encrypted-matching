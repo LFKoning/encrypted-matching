{
 "cells": [
  {
   "cell_type": "code",
   "execution_count": 1,
   "metadata": {},
   "outputs": [],
   "source": [
    "import numpy as np\n",
    "import pandas as pd\n",
    "from faker import Faker\n",
    "\n",
    "from sklearn.metrics.pairwise import cosine_similarity\n",
    "from sklearn.feature_extraction.text import HashingVectorizer"
   ]
  },
  {
   "cell_type": "code",
   "execution_count": 2,
   "metadata": {},
   "outputs": [
    {
     "data": {
      "text/plain": [
       "0                     Ali Schellekens\n",
       "1    Finn Jansdr-Goyaerts van Waderle\n",
       "2                    Melle van Brenen\n",
       "dtype: object"
      ]
     },
     "execution_count": 2,
     "metadata": {},
     "output_type": "execute_result"
    }
   ],
   "source": [
    "# Generate dummy names.\n",
    "n = 5_000_000\n",
    "faker = Faker(locale=\"nl-NL\")\n",
    "faker.seed_instance(42)\n",
    "names = pd.Series([faker.name() for _ in range(n)])\n",
    "names.head(3)"
   ]
  },
  {
   "cell_type": "code",
   "execution_count": 3,
   "metadata": {},
   "outputs": [],
   "source": [
    "import uuid\n",
    "from pathlib import Path\n",
    "\n",
    "import pandas as pd\n",
    "from cryptography.fernet import Fernet\n",
    "from scipy import sparse\n",
    "from sklearn.feature_extraction.text import HashingVectorizer\n",
    "from sklearn.metrics.pairwise import cosine_similarity\n",
    "\n",
    "\n",
    "class EncryptedMatcher:\n",
    "    \"\"\"Fuzzy matching for large sets of encrypted names.\"\"\"\n",
    "\n",
    "    def __init__(\n",
    "        self,\n",
    "        storage_path: str,\n",
    "        topn: int = 10,\n",
    "        encoding: str = \"utf8\",\n",
    "        n_features: int = 2**20,\n",
    "        # batch_size: int = 500_000,\n",
    "    ):\n",
    "        self._topn = -topn\n",
    "        self._encoding = encoding\n",
    "        self._storage_path = Path(storage_path)\n",
    "        self._storage_path.mkdir(exist_ok=True)\n",
    "        # self._batch_size = batch_size\n",
    "\n",
    "        self._vectorizer = HashingVectorizer(\n",
    "            encoding=encoding,\n",
    "            n_features=n_features,\n",
    "            ngram_range=(3, 3),\n",
    "            analyzer=\"char_wb\",\n",
    "            lowercase=True,\n",
    "            strip_accents=\"ascii\",\n",
    "        )\n",
    "\n",
    "    def add_names(self, names: pd.Series, encryption_key: bytes):\n",
    "        \"\"\"Store encrypted and vectorized names.\"\"\"\n",
    "        encryptor = Fernet(encryption_key)\n",
    "        encrypted = names.map(lambda n: encryptor.encrypt(n.encode(self._encoding)))\n",
    "        encrypted = encrypted.str.decode(\"utf8\")\n",
    "        vectorized = self._vectorizer.fit_transform(names)\n",
    "\n",
    "        # Store data.\n",
    "        file_id = uuid.uuid1()\n",
    "        sparse.save_npz(self._storage_path / f\"{file_id}.npz\", vectorized)\n",
    "        encrypted.to_csv(self._storage_path / f\"{file_id}.crypt\", index=False)\n",
    "\n",
    "    def search(self, names: str, encryption_key: bytes):\n",
    "        \"\"\"Search names in the vector space.\"\"\"\n",
    "        encryptor = Fernet(encryption_key)\n",
    "        search_vectors = self._vectorizer.fit_transform(names)\n",
    "\n",
    "        results = []\n",
    "        vector_files = self._storage_path.glob(\"*.npz\")\n",
    "        for vector_file in vector_files:\n",
    "            crypt_file = self._storage_path / (vector_file.stem + \".crypt\")\n",
    "            encrypted = pd.read_csv(crypt_file)\n",
    "            vectors = sparse.load_npz(vector_file)\n",
    "\n",
    "            similarities = cosine_similarity(search_vectors, vectors)\n",
    "            top_matches = np.argpartition(similarities, self._topn)[:, self._topn:]\n",
    "\n",
    "            for idx, matches in enumerate(top_matches):\n",
    "                for match in matches:\n",
    "                    matched_crypt = encrypted.iloc[match, 0]\n",
    "                    results.append({\n",
    "                        \"name\": names[idx],\n",
    "                        \"target\": encryptor.decrypt(matched_crypt).decode(self._encoding),\n",
    "                        \"encrypted\": matched_crypt,\n",
    "                        \"similarity\": float(similarities[idx, match]),\n",
    "                    })\n",
    "\n",
    "        return results\n"
   ]
  },
  {
   "cell_type": "code",
   "execution_count": 4,
   "metadata": {},
   "outputs": [],
   "source": [
    "matcher = EncryptedMatcher(\"vector_store\", n_features=100_000)"
   ]
  },
  {
   "cell_type": "code",
   "execution_count": 5,
   "metadata": {},
   "outputs": [],
   "source": [
    "encryption_key = Fernet.generate_key()\n",
    "matcher.add_names(names, encryption_key)"
   ]
  },
  {
   "cell_type": "code",
   "execution_count": 6,
   "metadata": {},
   "outputs": [
    {
     "data": {
      "text/plain": [
       "[{'name': 'Ali Schellekens',\n",
       "  'target': 'Alicia Schellekens',\n",
       "  'encrypted': 'gAAAAABnNvrA_nMpNOpyUAWpbqJ1ps3Ib63V3xnfoWfa6VzcJb-CrAwIbSuFs_SevlqAcHxRJnh5S3XlZ-aBkFvVfVJx5GlhN7HtketZAMjgO7YgnJECfdo=',\n",
       "  'similarity': 0.8426648406178137},\n",
       " {'name': 'Ali Schellekens',\n",
       "  'target': 'Alicia Schellekens',\n",
       "  'encrypted': 'gAAAAABnNvqEGiGwvWXZQZXO58xot9mIwJLRz0QstyUMe8KBJpYCRRHfOLSX62yqBKUyn8b-aHBvT-4OBkd_12SPat1TpsPEWW5o7BMImlrbxwULjxYQYN8=',\n",
       "  'similarity': 0.8426648406178137},\n",
       " {'name': 'Ali Schellekens',\n",
       "  'target': 'Alicia Schellekens',\n",
       "  'encrypted': 'gAAAAABnNvrn-44aRm0zIya_umc_pgXY9OgnUG3APNaputj4j9ib_ZOXIx0fa4XXIJrd2JoV4QiilmRrh1V1xmLjIy0vMNFnAbAcUzpT4HBgHE4t0CenZ7I=',\n",
       "  'similarity': 0.8426648406178137},\n",
       " {'name': 'Ali Schellekens',\n",
       "  'target': 'Alicia Schellekens',\n",
       "  'encrypted': 'gAAAAABnNvrlxK58mXPSNbFvWmVEWISo2WdiTsX-SyEGhbVVtMHZopULLp3f9SLIFTp9Mp3asKYr57eLlfU-ZTSSDt9VlhZs775GmQb5mSUgcLEks-eqh8g=',\n",
       "  'similarity': 0.8426648406178137},\n",
       " {'name': 'Ali Schellekens',\n",
       "  'target': 'Alicia Schellekens',\n",
       "  'encrypted': 'gAAAAABnNvrBJT3KEBZUcXOGzjeHxfVcFD1Df_AGzfdKuC_cbR0cZlP638JzmuG0uxe7hQXPIdBr_x4XzgnM8CoFyNZ9Gpe6IecRQ8REMEdZpxWiRkU42bg=',\n",
       "  'similarity': 0.8426648406178137},\n",
       " {'name': 'Ali Schellekens',\n",
       "  'target': 'Ali Schellekens',\n",
       "  'encrypted': 'gAAAAABnNvp3E_LEthvgpOHsPVBQN7J1yW68uDA_XBdEk_L5Tx5f0k6QA8j4YxPw6M-W-pTmxzgDXDyW5534R-f7N4-XWFSfXA==',\n",
       "  'similarity': 1.0000000000000007},\n",
       " {'name': 'Ali Schellekens',\n",
       "  'target': 'Ali Schellekens',\n",
       "  'encrypted': 'gAAAAABnNvqQmRNi8_OHDxCQGzLujgvzqS2aoWIynbjrZQR-SxaRQepiufJllRM_hhGyFJx0LYJUsrMLnyNgUc4bzm8EWq_PUA==',\n",
       "  'similarity': 1.0000000000000007},\n",
       " {'name': 'Ali Schellekens',\n",
       "  'target': 'Ali Schellekens',\n",
       "  'encrypted': 'gAAAAABnNvqhsRysjDsvMOP6QxC1qXxONYsBD0GRAzhB76aPiTQNvtffuPSfBSrS2YFSJ7hl7IVoc7PSfZQkD3rI2f9xlx1s1Q==',\n",
       "  'similarity': 1.0000000000000007},\n",
       " {'name': 'Ali Schellekens',\n",
       "  'target': 'Ali Schellekens',\n",
       "  'encrypted': 'gAAAAABnNvrbHCAkM8b3pbWX_MQrVjA4W-V5sB_Pk1zr4kUZzqEX0m42pz3Pr0Dr6hFq3k1UPMMAEWvNC1dJXfuARizwT6OYjQ==',\n",
       "  'similarity': 1.0000000000000007},\n",
       " {'name': 'Ali Schellekens',\n",
       "  'target': 'Ali Schellekens',\n",
       "  'encrypted': 'gAAAAABnNvp9xEeZK5Cx2W8sZF1UnwcVsWrfnps84_1T4tTm0UfjrgBXOrk4x5QH9v7yH_PD8jHOkxoKal-dJiWzZrrAoT2cOg==',\n",
       "  'similarity': 1.0000000000000007},\n",
       " {'name': 'Alicia Schellekens',\n",
       "  'target': 'Alicia Schellekens',\n",
       "  'encrypted': 'gAAAAABnNvqgOvj-4N1f-9eqfKEahULO0y6o8zMI7X35U_NOnbdi-fY0l_Ressgb35VElkQYB0yKSFTPGQ07B7l7NPMLimcnImqhIJgA5LVrejqaIWSmqd8=',\n",
       "  'similarity': 1.0},\n",
       " {'name': 'Alicia Schellekens',\n",
       "  'target': 'Alicia Schellekens',\n",
       "  'encrypted': 'gAAAAABnNvp7ZPWfotXTMsHL_qXUzH6mOhC8Hi5KbsIHraMsieLGIMMNesxhiof9Ftzwqfbg_xuhrrZmndHADKKWvQFS5oPq0O2DmM9gW9j9M1fyIeZpTUs=',\n",
       "  'similarity': 1.0},\n",
       " {'name': 'Alicia Schellekens',\n",
       "  'target': 'Alicia Schellekens',\n",
       "  'encrypted': 'gAAAAABnNvqzp6j552oTQCMmfDCk3m849wMxQUqfolT4PMHIwGyqPu_p9UM-UNtuz-QFOggosk7nCJE7zCSTtNXKV1OnMrF_2OKpRzAPzkXdNLWmXVS53Uw=',\n",
       "  'similarity': 1.0},\n",
       " {'name': 'Alicia Schellekens',\n",
       "  'target': 'Alicia Schellekens',\n",
       "  'encrypted': 'gAAAAABnNvrBJT3KEBZUcXOGzjeHxfVcFD1Df_AGzfdKuC_cbR0cZlP638JzmuG0uxe7hQXPIdBr_x4XzgnM8CoFyNZ9Gpe6IecRQ8REMEdZpxWiRkU42bg=',\n",
       "  'similarity': 1.0},\n",
       " {'name': 'Alicia Schellekens',\n",
       "  'target': 'Alicia Schellekens',\n",
       "  'encrypted': 'gAAAAABnNvqypuFx64tVYAhnZk27ugZYuorcQsG9Uuk80gDaH50PCsEwbushv3HQxdl13miOFJ_HIm4lAxTauvdUBoVVcQALPk68GXp9PDMTtByHUDA56Fc=',\n",
       "  'similarity': 1.0},\n",
       " {'name': 'Alicia Schellekens',\n",
       "  'target': 'Alicia Schellekens',\n",
       "  'encrypted': 'gAAAAABnNvrn-44aRm0zIya_umc_pgXY9OgnUG3APNaputj4j9ib_ZOXIx0fa4XXIJrd2JoV4QiilmRrh1V1xmLjIy0vMNFnAbAcUzpT4HBgHE4t0CenZ7I=',\n",
       "  'similarity': 1.0},\n",
       " {'name': 'Alicia Schellekens',\n",
       "  'target': 'Alicia Schellekens',\n",
       "  'encrypted': 'gAAAAABnNvrlxK58mXPSNbFvWmVEWISo2WdiTsX-SyEGhbVVtMHZopULLp3f9SLIFTp9Mp3asKYr57eLlfU-ZTSSDt9VlhZs775GmQb5mSUgcLEks-eqh8g=',\n",
       "  'similarity': 1.0},\n",
       " {'name': 'Alicia Schellekens',\n",
       "  'target': 'Alicia Schellekens',\n",
       "  'encrypted': 'gAAAAABnNvrA_nMpNOpyUAWpbqJ1ps3Ib63V3xnfoWfa6VzcJb-CrAwIbSuFs_SevlqAcHxRJnh5S3XlZ-aBkFvVfVJx5GlhN7HtketZAMjgO7YgnJECfdo=',\n",
       "  'similarity': 1.0},\n",
       " {'name': 'Alicia Schellekens',\n",
       "  'target': 'Alicia Schellekens',\n",
       "  'encrypted': 'gAAAAABnNvqEGiGwvWXZQZXO58xot9mIwJLRz0QstyUMe8KBJpYCRRHfOLSX62yqBKUyn8b-aHBvT-4OBkd_12SPat1TpsPEWW5o7BMImlrbxwULjxYQYN8=',\n",
       "  'similarity': 1.0},\n",
       " {'name': 'Alicia Schellekens',\n",
       "  'target': 'Alicia Schellekens',\n",
       "  'encrypted': 'gAAAAABnNvqtUPEOFq4pqNV9xvl7HRNLlQsuQcsTLgfSWUuXM4sYHth-_1G2YifM5S7cfAc0KArxJKzlYfRV2EE1-md8tLCRz9lgpEgVi900t4zrXFPFsi8=',\n",
       "  'similarity': 1.0}]"
      ]
     },
     "execution_count": 6,
     "metadata": {},
     "output_type": "execute_result"
    }
   ],
   "source": [
    "matcher.search([\"Ali Schellekens\", \"Alicia Schellekens\"], encryption_key)"
   ]
  },
  {
   "cell_type": "code",
   "execution_count": null,
   "metadata": {},
   "outputs": [],
   "source": []
  }
 ],
 "metadata": {
  "kernelspec": {
   "display_name": "encrypted-matching",
   "language": "python",
   "name": "python3"
  },
  "language_info": {
   "codemirror_mode": {
    "name": "ipython",
    "version": 3
   },
   "file_extension": ".py",
   "mimetype": "text/x-python",
   "name": "python",
   "nbconvert_exporter": "python",
   "pygments_lexer": "ipython3",
   "version": "3.11.10"
  }
 },
 "nbformat": 4,
 "nbformat_minor": 2
}
