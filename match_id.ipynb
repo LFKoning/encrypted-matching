{
 "cells": [
  {
   "cell_type": "code",
   "execution_count": 25,
   "metadata": {},
   "outputs": [],
   "source": [
    "import random\n",
    "\n",
    "import pandas as pd\n",
    "\n",
    "from thefuzz import fuzz\n",
    "\n",
    "from rapidfuzz import fuzz as rapid_fuzz\n",
    "from rapidfuzz.process import cdist\n",
    "from rapidfuzz.distance.OSA import normalized_distance\n"
   ]
  },
  {
   "cell_type": "code",
   "execution_count": 26,
   "metadata": {},
   "outputs": [],
   "source": [
    "def generate_ids():\n",
    "    \"\"\"Generate ID-like strings.\"\"\"\n",
    "    while True:\n",
    "        country_code = \"NLD\"\n",
    "        gender = random.choice([\"M\", \"F\"])\n",
    "        first = f\"{random.randint(0, 9999999):07d}\"\n",
    "        second = f\"{random.randint(0, 9999999999999999):016d}\"\n",
    "\n",
    "        yield f\"{country_code}{first}{gender}{second}\"\n",
    "\n",
    "\n",
    "def similarity(target_id: str, search_ids: pd.Series) -> pd.Series:\n",
    "    \"\"\"Compute Levenhstein distance between IDs.\"\"\"\n",
    "    return search_ids.map(lambda search_id: fuzz.ratio(target_id, search_id))\n",
    "\n",
    "\n",
    "def rapid_similarity(target_id: str, search_ids: pd.Series) -> pd.Series:\n",
    "    \"\"\"Compute Levenhstein distance between IDs.\"\"\"\n",
    "    return pd.Series(\n",
    "        cdist([target_id], search_ids, scorer=rapid_fuzz.ratio, workers=-1)[0]\n",
    "    )\n",
    "\n",
    "\n",
    "def rapid_distance(target_id: str, search_ids: pd.Series) -> pd.Series:\n",
    "    \"\"\"Compute Optimal String Alignment distance between IDs.\"\"\"\n",
    "    return pd.Series(\n",
    "        cdist([target_id], search_ids, scorer=normalized_distance, workers=-1)[0]\n",
    "    )\n",
    "\n",
    "def equality(target_id: str, search_ids: pd.Series) -> pd.Series:\n",
    "    \"\"\"Compare an ID to a list of IDs.\"\"\"\n",
    "    return search_ids.map(lambda search_id: search_id == target_id)"
   ]
  },
  {
   "cell_type": "code",
   "execution_count": 5,
   "metadata": {},
   "outputs": [],
   "source": [
    "id_generator = generate_ids()"
   ]
  },
  {
   "cell_type": "code",
   "execution_count": 6,
   "metadata": {},
   "outputs": [
    {
     "data": {
      "text/plain": [
       "3965952    NLD7862985M9584249290578852\n",
       "2219008    NLD2620976M3543559410513773\n",
       "1392104    NLD4190742F2322235162041885\n",
       "1109549    NLD1127711F7430815707386695\n",
       "2412081    NLD0493995M0682563977057378\n",
       "dtype: object"
      ]
     },
     "execution_count": 6,
     "metadata": {},
     "output_type": "execute_result"
    }
   ],
   "source": [
    "n = 5_000_000\n",
    "ids = pd.Series([next(id_generator) for _ in range(n)])\n",
    "ids.sample(5)"
   ]
  },
  {
   "cell_type": "code",
   "execution_count": null,
   "metadata": {},
   "outputs": [],
   "source": [
    "top_n = 10"
   ]
  },
  {
   "cell_type": "code",
   "execution_count": 29,
   "metadata": {},
   "outputs": [
    {
     "data": {
      "text/plain": [
       "0          100.000000\n",
       "2808724     74.074074\n",
       "749630      70.370369\n",
       "4055081     70.370369\n",
       "3743367     70.370369\n",
       "dtype: float32"
      ]
     },
     "execution_count": 29,
     "metadata": {},
     "output_type": "execute_result"
    }
   ],
   "source": [
    "similarities = rapid_similarity(ids[0], ids).sort_values(ascending=False)\n",
    "similarities.head(5)"
   ]
  },
  {
   "cell_type": "code",
   "execution_count": 31,
   "metadata": {},
   "outputs": [
    {
     "data": {
      "text/plain": [
       "0          NLD6979241F8477934648316939\n",
       "2808724    NLD8679541F8875279148163939\n",
       "749630     NLD8195179F7693444648126939\n",
       "4055081    NLD6297242M7946413100639739\n",
       "3743367    NLD4099141F8047744981926699\n",
       "dtype: object"
      ]
     },
     "execution_count": 31,
     "metadata": {},
     "output_type": "execute_result"
    }
   ],
   "source": [
    "ids.iloc[similarities.index[0:5]]"
   ]
  },
  {
   "cell_type": "code",
   "execution_count": 32,
   "metadata": {},
   "outputs": [
    {
     "data": {
      "text/plain": [
       "0          0.000000\n",
       "1257044    0.370370\n",
       "2379465    0.370370\n",
       "1716543    0.407407\n",
       "2952155    0.407407\n",
       "dtype: float32"
      ]
     },
     "execution_count": 32,
     "metadata": {},
     "output_type": "execute_result"
    }
   ],
   "source": [
    "distances = rapid_distance(ids[0], ids).sort_values(ascending=True)\n",
    "distances.head(5)"
   ]
  },
  {
   "cell_type": "code",
   "execution_count": 33,
   "metadata": {},
   "outputs": [
    {
     "data": {
      "text/plain": [
       "0          NLD6979241F8477934648316939\n",
       "1257044    NLD6298243F4772934348316482\n",
       "2379465    NLD0972341F8777994483968869\n",
       "1716543    NLD5879261F8417365831868879\n",
       "2952155    NLD6479011F3540794098716909\n",
       "dtype: object"
      ]
     },
     "execution_count": 33,
     "metadata": {},
     "output_type": "execute_result"
    }
   ],
   "source": [
    "ids.iloc[distances.index[0:5]]"
   ]
  },
  {
   "cell_type": "code",
   "execution_count": 22,
   "metadata": {},
   "outputs": [
    {
     "name": "stdout",
     "output_type": "stream",
     "text": [
      "5.3 s ± 129 ms per loop (mean ± std. dev. of 7 runs, 1 loop each)\n"
     ]
    }
   ],
   "source": [
    "%timeit similarity(ids[0], ids)"
   ]
  },
  {
   "cell_type": "code",
   "execution_count": 24,
   "metadata": {},
   "outputs": [
    {
     "name": "stdout",
     "output_type": "stream",
     "text": [
      "834 ms ± 16.1 ms per loop (mean ± std. dev. of 7 runs, 1 loop each)\n"
     ]
    }
   ],
   "source": [
    "%timeit rapid_similarity(ids[0], ids)"
   ]
  },
  {
   "cell_type": "code",
   "execution_count": 8,
   "metadata": {},
   "outputs": [
    {
     "name": "stdout",
     "output_type": "stream",
     "text": [
      "1.04 s ± 16.2 ms per loop (mean ± std. dev. of 7 runs, 1 loop each)\n"
     ]
    }
   ],
   "source": [
    "%timeit equality(ids[0], ids)"
   ]
  },
  {
   "cell_type": "code",
   "execution_count": null,
   "metadata": {},
   "outputs": [],
   "source": []
  }
 ],
 "metadata": {
  "kernelspec": {
   "display_name": "fuzzy-matching",
   "language": "python",
   "name": "python3"
  },
  "language_info": {
   "codemirror_mode": {
    "name": "ipython",
    "version": 3
   },
   "file_extension": ".py",
   "mimetype": "text/x-python",
   "name": "python",
   "nbconvert_exporter": "python",
   "pygments_lexer": "ipython3",
   "version": "3.11.11"
  }
 },
 "nbformat": 4,
 "nbformat_minor": 2
}
