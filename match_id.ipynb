{
 "cells": [
  {
   "cell_type": "code",
   "execution_count": null,
   "metadata": {},
   "outputs": [],
   "source": [
    "import random\n",
    "\n",
    "import pandas as pd\n",
    "from rapidfuzz import fuzz as rapid_fuzz\n",
    "from thefuzz import fuzz"
   ]
  },
  {
   "cell_type": "code",
   "execution_count": null,
   "metadata": {},
   "outputs": [],
   "source": [
    "\n",
    "def generate_ids():\n",
    "    \"\"\"Generate ID like strings.\"\"\"\n",
    "    while True:\n",
    "        country_code = \"NLD\"\n",
    "        gender = random.choice([\"M\", \"F\"])\n",
    "        first = f\"{random.randint(0, 9999999):07d}\"\n",
    "        second = f\"{random.randint(0, 9999999999999999):016d}\"\n",
    "\n",
    "        yield f\"{country_code}{first}{gender}{second}\"\\\n",
    "\n",
    "\n",
    "def similarity(target_id: str, search_ids: pd.Series) -> pd.Series:\n",
    "    \"\"\"Compute Levenhstein distance between an IDs.\"\"\"\n",
    "    return search_ids.map(lambda search_id: fuzz.ratio(target_id, search_id))\n",
    "\n",
    "def rapid_similarity(target_id: str, search_ids: pd.Series) -> pd.Series:\n",
    "    \"\"\"Compute Levenhstein distance between an IDs.\"\"\"\n",
    "    return search_ids.map(lambda search_id: rapid_fuzz.ratio(target_id, search_id))\n",
    "\n",
    "def equality(target_id: str, search_ids: pd.Series) -> pd.Series:\n",
    "    \"\"\"Compare an ID to a list of IDs.\"\"\"\n",
    "    return search_ids.map(lambda search_id: search_id == target_id)"
   ]
  },
  {
   "cell_type": "code",
   "execution_count": null,
   "metadata": {},
   "outputs": [],
   "source": [
    "id_generator = generate_ids()"
   ]
  },
  {
   "cell_type": "code",
   "execution_count": null,
   "metadata": {},
   "outputs": [],
   "source": [
    "n = 1_000_000\n",
    "ids = pd.Series([next(id_generator) for _ in range(n)])"
   ]
  },
  {
   "cell_type": "code",
   "execution_count": null,
   "metadata": {},
   "outputs": [],
   "source": [
    "similarity(ids[0], ids)"
   ]
  },
  {
   "cell_type": "code",
   "execution_count": null,
   "metadata": {},
   "outputs": [],
   "source": [
    "%timeit similarity(ids[0], ids)"
   ]
  },
  {
   "cell_type": "code",
   "execution_count": null,
   "metadata": {},
   "outputs": [],
   "source": [
    "%timeit rapid_similarity(ids[0], ids)"
   ]
  },
  {
   "cell_type": "code",
   "execution_count": null,
   "metadata": {},
   "outputs": [],
   "source": [
    "%timeit equality(ids[0], ids)"
   ]
  },
  {
   "cell_type": "code",
   "execution_count": null,
   "metadata": {},
   "outputs": [],
   "source": []
  }
 ],
 "metadata": {
  "kernelspec": {
   "display_name": "encrypted-matching",
   "language": "python",
   "name": "python3"
  },
  "language_info": {
   "codemirror_mode": {
    "name": "ipython",
    "version": 3
   },
   "file_extension": ".py",
   "mimetype": "text/x-python",
   "name": "python",
   "nbconvert_exporter": "python",
   "pygments_lexer": "ipython3",
   "version": "3.11.10"
  }
 },
 "nbformat": 4,
 "nbformat_minor": 2
}
