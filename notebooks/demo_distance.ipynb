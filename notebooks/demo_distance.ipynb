{
 "cells": [
  {
   "cell_type": "markdown",
   "metadata": {},
   "source": [
    "## DEMO: Edit Distance Performance"
   ]
  },
  {
   "cell_type": "code",
   "execution_count": null,
   "metadata": {},
   "outputs": [],
   "source": [
    "%pip install pandas thefuzz rapidfuzz"
   ]
  },
  {
   "cell_type": "code",
   "execution_count": null,
   "metadata": {},
   "outputs": [],
   "source": [
    "import random\n",
    "\n",
    "import pandas as pd\n",
    "\n",
    "from thefuzz import fuzz\n",
    "\n",
    "from rapidfuzz import fuzz as rapid_fuzz\n",
    "from rapidfuzz.process import cdist\n",
    "from rapidfuzz.distance.OSA import normalized_distance\n"
   ]
  },
  {
   "cell_type": "code",
   "execution_count": null,
   "metadata": {},
   "outputs": [],
   "source": [
    "def generate_ids():\n",
    "    \"\"\"Generate ID-like strings.\"\"\"\n",
    "    while True:\n",
    "        country_code = \"NLD\"\n",
    "        gender = random.choice([\"M\", \"F\"])\n",
    "        first = f\"{random.randint(0, 9999999):07d}\"\n",
    "        second = f\"{random.randint(0, 9999999999999999):016d}\"\n",
    "\n",
    "        yield f\"{country_code}{first}{gender}{second}\"\n",
    "\n",
    "\n",
    "def similarity(target_id: str, search_ids: pd.Series) -> pd.Series:\n",
    "    \"\"\"Compute Levenhstein distance between IDs.\"\"\"\n",
    "    return search_ids.map(lambda search_id: fuzz.ratio(target_id, search_id))\n",
    "\n",
    "\n",
    "def rapid_similarity(target_id: str, search_ids: pd.Series) -> pd.Series:\n",
    "    \"\"\"Compute Levenhstein distance between IDs.\"\"\"\n",
    "    return pd.Series(\n",
    "        cdist([target_id], search_ids, scorer=rapid_fuzz.ratio, workers=-1)[0]\n",
    "    )\n",
    "\n",
    "\n",
    "def rapid_distance(target_id: str, search_ids: pd.Series) -> pd.Series:\n",
    "    \"\"\"Compute Optimal String Alignment distance between IDs.\"\"\"\n",
    "    return pd.Series(\n",
    "        cdist([target_id], search_ids, scorer=normalized_distance, workers=-1)[0]\n",
    "    )\n",
    "\n",
    "def equality(target_id: str, search_ids: pd.Series) -> pd.Series:\n",
    "    \"\"\"Compare an ID to a list of IDs.\"\"\"\n",
    "    return search_ids.map(lambda search_id: search_id == target_id)"
   ]
  },
  {
   "cell_type": "code",
   "execution_count": null,
   "metadata": {},
   "outputs": [],
   "source": [
    "id_generator = generate_ids()"
   ]
  },
  {
   "cell_type": "code",
   "execution_count": null,
   "metadata": {},
   "outputs": [],
   "source": [
    "n = 5_000_000\n",
    "ids = pd.Series([next(id_generator) for _ in range(n)])\n",
    "ids.sample(5)"
   ]
  },
  {
   "cell_type": "code",
   "execution_count": null,
   "metadata": {},
   "outputs": [],
   "source": [
    "top_n = 10"
   ]
  },
  {
   "cell_type": "code",
   "execution_count": null,
   "metadata": {},
   "outputs": [],
   "source": [
    "similarities = rapid_similarity(ids[0], ids).sort_values(ascending=False)\n",
    "similarities.head(top_n)"
   ]
  },
  {
   "cell_type": "code",
   "execution_count": null,
   "metadata": {},
   "outputs": [],
   "source": [
    "ids.iloc[similarities.index[0:top_n]]"
   ]
  },
  {
   "cell_type": "code",
   "execution_count": null,
   "metadata": {},
   "outputs": [],
   "source": [
    "distances = rapid_distance(ids[0], ids).sort_values(ascending=True)\n",
    "distances.head(top_n)"
   ]
  },
  {
   "cell_type": "code",
   "execution_count": null,
   "metadata": {},
   "outputs": [],
   "source": [
    "ids.iloc[distances.index[0:top_n]]"
   ]
  },
  {
   "cell_type": "code",
   "execution_count": null,
   "metadata": {},
   "outputs": [],
   "source": [
    "%timeit similarity(ids[0], ids)"
   ]
  },
  {
   "cell_type": "code",
   "execution_count": null,
   "metadata": {},
   "outputs": [],
   "source": [
    "%timeit rapid_similarity(ids[0], ids)"
   ]
  },
  {
   "cell_type": "code",
   "execution_count": null,
   "metadata": {},
   "outputs": [],
   "source": [
    "%timeit rapid_distance(ids[0], ids)"
   ]
  },
  {
   "cell_type": "code",
   "execution_count": null,
   "metadata": {},
   "outputs": [],
   "source": [
    "%timeit equality(ids[0], ids)"
   ]
  }
 ],
 "metadata": {
  "kernelspec": {
   "display_name": ".venv",
   "language": "python",
   "name": "python3"
  },
  "language_info": {
   "codemirror_mode": {
    "name": "ipython",
    "version": 3
   },
   "file_extension": ".py",
   "mimetype": "text/x-python",
   "name": "python",
   "nbconvert_exporter": "python",
   "pygments_lexer": "ipython3",
   "version": "3.13.1"
  }
 },
 "nbformat": 4,
 "nbformat_minor": 2
}
