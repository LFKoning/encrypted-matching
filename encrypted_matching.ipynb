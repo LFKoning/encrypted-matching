{
 "cells": [
  {
   "cell_type": "code",
   "execution_count": null,
   "metadata": {},
   "outputs": [],
   "source": [
    "from cryptography.fernet import Fernet\n",
    "\n",
    "import pandas as pd\n",
    "from faker import Faker"
   ]
  },
  {
   "cell_type": "code",
   "execution_count": null,
   "metadata": {},
   "outputs": [],
   "source": [
    "# Increase column width to display encrypted names.\n",
    "pd.options.display.max_colwidth = 400"
   ]
  },
  {
   "cell_type": "code",
   "execution_count": null,
   "metadata": {},
   "outputs": [],
   "source": [
    "# Generate dummy names.\n",
    "n = 25\n",
    "faker = Faker(locale=\"nl-NL\")\n",
    "faker.seed_instance(42)\n",
    "names = pd.Series([faker.name() for _ in range(n)])\n",
    "names.head(3)"
   ]
  },
  {
   "cell_type": "code",
   "execution_count": null,
   "metadata": {},
   "outputs": [],
   "source": [
    "# Generate Fernet encryption key and class.\n",
    "# Note: Should be stored away from the matcher, e.g. in a KeyVault.\n",
    "encryption_key = Fernet.generate_key()"
   ]
  },
  {
   "cell_type": "code",
   "execution_count": null,
   "metadata": {},
   "outputs": [],
   "source": [
    "from cryptography.fernet import Fernet\n",
    "\n",
    "from sklearn.feature_extraction.text import TfidfVectorizer\n",
    "from sklearn.neighbors import NearestNeighbors\n",
    "\n",
    "\n",
    "class EncryptedMatcher:\n",
    "    \"\"\"Matches names against an encrypted database.\"\"\"\n",
    "\n",
    "    def __init__(\n",
    "        self, matches=3, threshold=0.5, encoding: str = \"utf8\", vectorizer=None\n",
    "    ):\n",
    "        self._encoding = encoding\n",
    "        self._threshold = threshold\n",
    "\n",
    "        self._vectorizer = vectorizer or TfidfVectorizer(\n",
    "            encoding=encoding, ngram_range=(2, 3), analyzer=\"char_wb\"\n",
    "        )\n",
    "        self._model = NearestNeighbors(n_neighbors=matches, n_jobs=-1)\n",
    "        self._lookup = None\n",
    "\n",
    "    def encrypt_names(self, names, encryption_key) -> pd.Series:\n",
    "        \"\"\"Encrypt names using Fernet encryption.\"\"\"\n",
    "        encryptor = Fernet(encryption_key)\n",
    "        return names.map(lambda n: encryptor.encrypt(n.encode(self._encoding)))\n",
    "\n",
    "    def _vectorize(self, names, train=False):\n",
    "        \"\"\"Vectorize a series of names.\"\"\"\n",
    "        if train:\n",
    "            self._vectorizer.fit(names)\n",
    "\n",
    "        return self._vectorizer.transform(names)\n",
    "\n",
    "    def train(self, names, encryption_key):\n",
    "        \"\"\"Train the model on unencrypted names.\"\"\"\n",
    "        # Fit KNN on the vectorized data.\n",
    "        # Note: Could encrypt the model for more security.\n",
    "        vectorized = self._vectorize(names, train=True)\n",
    "        self._model.fit(vectorized)\n",
    "\n",
    "        # Store encrypted names as lookup table.\n",
    "        self._lookup = self.encrypt_names(names, encryption_key)\n",
    "\n",
    "    def predict(self, names):\n",
    "        \"\"\"Match names against the encrypted names.\"\"\"\n",
    "        vectorized = self._vectorize(names)\n",
    "        distances, indices = self._model.kneighbors(vectorized)\n",
    "\n",
    "        return [\n",
    "            (self._lookup[index], distance)\n",
    "            for index, distance in zip(indices[0], distances[0])\n",
    "            if distance < self._threshold\n",
    "        ]"
   ]
  },
  {
   "cell_type": "code",
   "execution_count": null,
   "metadata": {},
   "outputs": [],
   "source": [
    "matcher = EncryptedMatcher()\n"
   ]
  },
  {
   "cell_type": "code",
   "execution_count": null,
   "metadata": {},
   "outputs": [],
   "source": [
    "matcher.train(names, encryption_key)"
   ]
  },
  {
   "cell_type": "code",
   "execution_count": null,
   "metadata": {},
   "outputs": [],
   "source": [
    "# Match the first name excatly.\n",
    "matches = matcher.predict(names[[0]])\n",
    "pd.DataFrame(matches, columns=[\"encrypted\", \"distance\"])"
   ]
  },
  {
   "cell_type": "code",
   "execution_count": null,
   "metadata": {},
   "outputs": [],
   "source": [
    "# Match the first name with names swapped.\n",
    "# Note: The distance value has increased significantly.\n",
    "matches = matcher.predict([\"Schellekens, Ali\"])\n",
    "pd.DataFrame(matches, columns=[\"encrypted\", \"distance\"])"
   ]
  },
  {
   "cell_type": "code",
   "execution_count": null,
   "metadata": {},
   "outputs": [],
   "source": [
    "# Check results against the original names.\n",
    "encryptor = Fernet(encryption_key)\n",
    "pd.DataFrame({\n",
    "    \"name\": names,\n",
    "    \"encrypted\": names.map(lambda n: encryptor.encrypt(n.encode(\"utf8\")))\n",
    "})"
   ]
  },
  {
   "cell_type": "code",
   "execution_count": null,
   "metadata": {},
   "outputs": [],
   "source": [
    "# Model lookup table only contains the encypted names.\n",
    "# Without the encryption key, you cannot decrypt these.\n",
    "matcher._lookup[0:5]"
   ]
  },
  {
   "cell_type": "code",
   "execution_count": null,
   "metadata": {},
   "outputs": [],
   "source": [
    "# No PII data in the vectorizer.\n",
    "matcher._vectorizer.vocabulary_"
   ]
  },
  {
   "cell_type": "code",
   "execution_count": null,
   "metadata": {},
   "outputs": [],
   "source": [
    "# Fitted NN model is not interpretable.\n",
    "print(matcher._model._fit_X)"
   ]
  },
  {
   "cell_type": "code",
   "execution_count": null,
   "metadata": {},
   "outputs": [],
   "source": [
    "for attrib in dir(matcher._model):\n",
    "    if attrib.startswith(\"__\"):\n",
    "        continue\n",
    "    print(attrib)\n",
    "    print(getattr(matcher._model, attrib))\n",
    "    print(\"---\")\n"
   ]
  },
  {
   "cell_type": "code",
   "execution_count": null,
   "metadata": {},
   "outputs": [],
   "source": []
  }
 ],
 "metadata": {
  "kernelspec": {
   "display_name": "encrypted-matching",
   "language": "python",
   "name": "python3"
  },
  "language_info": {
   "codemirror_mode": {
    "name": "ipython",
    "version": 3
   },
   "file_extension": ".py",
   "mimetype": "text/x-python",
   "name": "python",
   "nbconvert_exporter": "python",
   "pygments_lexer": "ipython3",
   "version": "3.11.10"
  }
 },
 "nbformat": 4,
 "nbformat_minor": 2
}
