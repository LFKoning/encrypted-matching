{
 "cells": [
  {
   "cell_type": "code",
   "execution_count": 1,
   "metadata": {},
   "outputs": [],
   "source": [
    "import random\n",
    "\n",
    "import pandas as pd\n",
    "from rapidfuzz import fuzz as rapid_fuzz\n",
    "from thefuzz import fuzz"
   ]
  },
  {
   "cell_type": "code",
   "execution_count": 2,
   "metadata": {},
   "outputs": [],
   "source": [
    "def generate_ids():\n",
    "    \"\"\"Generate ID-like strings.\"\"\"\n",
    "    while True:\n",
    "        country_code = \"NLD\"\n",
    "        gender = random.choice([\"M\", \"F\"])\n",
    "        first = f\"{random.randint(0, 9999999):07d}\"\n",
    "        second = f\"{random.randint(0, 9999999999999999):016d}\"\n",
    "\n",
    "        yield f\"{country_code}{first}{gender}{second}\"\\\n",
    "\n",
    "\n",
    "def similarity(target_id: str, search_ids: pd.Series) -> pd.Series:\n",
    "    \"\"\"Compute Levenhstein distance between IDs.\"\"\"\n",
    "    return search_ids.map(lambda search_id: fuzz.ratio(target_id, search_id))\n",
    "\n",
    "def rapid_similarity(target_id: str, search_ids: pd.Series) -> pd.Series:\n",
    "    \"\"\"Compute Levenhstein distance between IDs.\"\"\"\n",
    "    return search_ids.map(lambda search_id: rapid_fuzz.ratio(target_id, search_id))\n",
    "\n",
    "def equality(target_id: str, search_ids: pd.Series) -> pd.Series:\n",
    "    \"\"\"Compare an ID to a list of IDs.\"\"\"\n",
    "    return search_ids.map(lambda search_id: search_id == target_id)"
   ]
  },
  {
   "cell_type": "code",
   "execution_count": 3,
   "metadata": {},
   "outputs": [],
   "source": [
    "id_generator = generate_ids()"
   ]
  },
  {
   "cell_type": "code",
   "execution_count": 4,
   "metadata": {},
   "outputs": [
    {
     "data": {
      "text/plain": [
       "3095785    NLD5636495M4393533685427962\n",
       "72707      NLD6751968M5662473946840749\n",
       "4985477    NLD9921820M8853521226065694\n",
       "1940558    NLD1360201F1889821708676287\n",
       "2205037    NLD9851286F1361158292033152\n",
       "dtype: object"
      ]
     },
     "execution_count": 4,
     "metadata": {},
     "output_type": "execute_result"
    }
   ],
   "source": [
    "n = 5_000_000\n",
    "ids = pd.Series([next(id_generator) for _ in range(n)])\n",
    "ids.sample(5)"
   ]
  },
  {
   "cell_type": "code",
   "execution_count": null,
   "metadata": {},
   "outputs": [
    {
     "data": {
      "text/plain": [
       "4449134     22.222222\n",
       "4350803     22.222222\n",
       "4277187     22.222222\n",
       "1122943     22.222222\n",
       "4135562     22.222222\n",
       "              ...    \n",
       "804267      70.370370\n",
       "941431      70.370370\n",
       "3078976     74.074074\n",
       "1459938     74.074074\n",
       "0          100.000000\n",
       "Length: 5000000, dtype: float64"
      ]
     },
     "execution_count": 5,
     "metadata": {},
     "output_type": "execute_result"
    }
   ],
   "source": [
    "rapid_similarity(ids[0], ids).sort_values(ascending=False)"
   ]
  },
  {
   "cell_type": "code",
   "execution_count": 6,
   "metadata": {},
   "outputs": [
    {
     "name": "stdout",
     "output_type": "stream",
     "text": [
      "5.14 s ± 69.1 ms per loop (mean ± std. dev. of 7 runs, 1 loop each)\n"
     ]
    }
   ],
   "source": [
    "%timeit similarity(ids[0], ids)"
   ]
  },
  {
   "cell_type": "code",
   "execution_count": 7,
   "metadata": {},
   "outputs": [
    {
     "name": "stdout",
     "output_type": "stream",
     "text": [
      "2.83 s ± 65.8 ms per loop (mean ± std. dev. of 7 runs, 1 loop each)\n"
     ]
    }
   ],
   "source": [
    "%timeit rapid_similarity(ids[0], ids)"
   ]
  },
  {
   "cell_type": "code",
   "execution_count": 8,
   "metadata": {},
   "outputs": [
    {
     "name": "stdout",
     "output_type": "stream",
     "text": [
      "1.04 s ± 16.2 ms per loop (mean ± std. dev. of 7 runs, 1 loop each)\n"
     ]
    }
   ],
   "source": [
    "%timeit equality(ids[0], ids)"
   ]
  },
  {
   "cell_type": "code",
   "execution_count": null,
   "metadata": {},
   "outputs": [],
   "source": []
  }
 ],
 "metadata": {
  "kernelspec": {
   "display_name": "fuzzy-matching",
   "language": "python",
   "name": "python3"
  },
  "language_info": {
   "codemirror_mode": {
    "name": "ipython",
    "version": 3
   },
   "file_extension": ".py",
   "mimetype": "text/x-python",
   "name": "python",
   "nbconvert_exporter": "python",
   "pygments_lexer": "ipython3",
   "version": "3.11.11"
  }
 },
 "nbformat": 4,
 "nbformat_minor": 2
}
