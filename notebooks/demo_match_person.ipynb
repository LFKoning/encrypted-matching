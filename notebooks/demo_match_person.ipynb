{
 "cells": [
  {
   "cell_type": "markdown",
   "metadata": {},
   "source": [
    "## DEMO: Match Natural Persons"
   ]
  },
  {
   "cell_type": "code",
   "execution_count": null,
   "metadata": {},
   "outputs": [],
   "source": [
    "%pip install pandas faker"
   ]
  },
  {
   "cell_type": "code",
   "execution_count": null,
   "metadata": {},
   "outputs": [],
   "source": [
    "import random\n",
    "\n",
    "import pandas as pd\n",
    "from faker import Faker\n",
    "\n",
    "from fuzzy_matching.match_person import PersonMatcher\n",
    "from fuzzy_matching.encryption import AESGCM4Encryptor"
   ]
  },
  {
   "cell_type": "code",
   "execution_count": null,
   "metadata": {},
   "outputs": [],
   "source": [
    "# Set up Faker\n",
    "faker = Faker(locale=\"nl-NL\")\n",
    "faker.seed_instance(42)"
   ]
  },
  {
   "cell_type": "code",
   "execution_count": null,
   "metadata": {},
   "outputs": [],
   "source": [
    "def generate_ids(n):\n",
    "    \"\"\"Generate ID-like strings.\"\"\"\n",
    "    country_code = \"NLD\"\n",
    "\n",
    "    ids = []\n",
    "    for _ in range(n):\n",
    "        gender = random.choice([\"M\", \"F\"])\n",
    "        first = f\"{random.randint(0, 9999999):07d}\"\n",
    "        second = f\"{random.randint(0, 9999999999999999):016d}\"\n",
    "        ids.append(f\"{country_code}{first}{gender}{second}\")\n",
    "    return ids\n",
    "\n",
    "\n",
    "def generate_names(n):\n",
    "    \"\"\"Generate dummy names.\"\"\"\n",
    "    return pd.Series([faker.name() for _ in range(n)])\n",
    "\n",
    "\n",
    "def generate_birthdates(n):\n",
    "    \"\"\"Generate dummy birthdates.\"\"\"\n",
    "    return pd.Series(\n",
    "        [\n",
    "            faker.date_of_birth(minimum_age=18, maximum_age=100).strftime(\"%d-%m-%Y\")\n",
    "            for _ in range(n)\n",
    "        ]\n",
    "    )\n"
   ]
  },
  {
   "cell_type": "code",
   "execution_count": null,
   "metadata": {},
   "outputs": [],
   "source": [
    "n = 5_000\n",
    "data = pd.DataFrame({\n",
    "    \"name\": generate_names(n),\n",
    "    \"birthdate\": generate_birthdates(n),\n",
    "    \"national_id\": generate_ids(n),\n",
    "})\n",
    "data.sample(5)"
   ]
  },
  {
   "cell_type": "code",
   "execution_count": null,
   "metadata": {},
   "outputs": [],
   "source": [
    "encryption_key = AESGCM4Encryptor.generate_key()\n",
    "encryption_key"
   ]
  },
  {
   "cell_type": "code",
   "execution_count": null,
   "metadata": {},
   "outputs": [],
   "source": [
    "config = {\n",
    "    \"name\": {\n",
    "        \"algoritm\": \"vector\",\n",
    "        \"weight\": 0.2,\n",
    "    },\n",
    "    \"birthdate\": {\n",
    "        \"algoritm\": \"distance\",\n",
    "        \"weight\": 0.2,\n",
    "    },\n",
    "    \"national_id\": {\n",
    "        \"algoritm\": \"distance\",\n",
    "        \"weight\": 0.6\n",
    "    },\n",
    "}"
   ]
  },
  {
   "cell_type": "code",
   "execution_count": null,
   "metadata": {},
   "outputs": [],
   "source": [
    "matcher = PersonMatcher(10, config, encryption_key, \"storage\")"
   ]
  },
  {
   "cell_type": "code",
   "execution_count": null,
   "metadata": {},
   "outputs": [],
   "source": [
    "matcher.create(data)"
   ]
  },
  {
   "cell_type": "code",
   "execution_count": null,
   "metadata": {},
   "outputs": [],
   "source": [
    "result = matcher.get({\n",
    "    \"name\": \"Weijters, Hanna\",\n",
    "    \"birthdate\": \"16-11-2000\",\n",
    "    \"national_id\": \"nld9622792f4887410313628145\"\n",
    "})\n",
    "result"
   ]
  },
  {
   "cell_type": "code",
   "execution_count": null,
   "metadata": {},
   "outputs": [],
   "source": []
  }
 ],
 "metadata": {
  "kernelspec": {
   "display_name": ".venv",
   "language": "python",
   "name": "python3"
  },
  "language_info": {
   "codemirror_mode": {
    "name": "ipython",
    "version": 3
   },
   "file_extension": ".py",
   "mimetype": "text/x-python",
   "name": "python",
   "nbconvert_exporter": "python",
   "pygments_lexer": "ipython3",
   "version": "3.13.1"
  }
 },
 "nbformat": 4,
 "nbformat_minor": 2
}
