{
 "cells": [
  {
   "cell_type": "markdown",
   "metadata": {},
   "source": [
    "## DEMO: Match Natural Persons"
   ]
  },
  {
   "cell_type": "code",
   "execution_count": null,
   "metadata": {},
   "outputs": [],
   "source": [
    "%pip install pandas faker"
   ]
  },
  {
   "cell_type": "code",
   "execution_count": 1,
   "metadata": {},
   "outputs": [],
   "source": [
    "import random\n",
    "\n",
    "import pandas as pd\n",
    "from faker import Faker\n",
    "\n",
    "from fuzzy_matching.match_multi import MultiMatcher\n",
    "from fuzzy_matching.encryption import AESGCM4Encryptor"
   ]
  },
  {
   "cell_type": "code",
   "execution_count": 2,
   "metadata": {},
   "outputs": [],
   "source": [
    "# Set up Faker\n",
    "faker = Faker(locale=\"nl-NL\")\n",
    "faker.seed_instance(42)"
   ]
  },
  {
   "cell_type": "code",
   "execution_count": 3,
   "metadata": {},
   "outputs": [],
   "source": [
    "def generate_ids(n):\n",
    "    \"\"\"Generate ID-like strings.\"\"\"\n",
    "    country_code = \"NLD\"\n",
    "\n",
    "    ids = []\n",
    "    for _ in range(n):\n",
    "        gender = random.choice([\"M\", \"F\"])\n",
    "        first = f\"{random.randint(0, 9999999):07d}\"\n",
    "        second = f\"{random.randint(0, 9999999999999999):016d}\"\n",
    "        ids.append(f\"{country_code}{first}{gender}{second}\")\n",
    "    return ids\n",
    "\n",
    "\n",
    "def generate_names(n):\n",
    "    \"\"\"Generate dummy names.\"\"\"\n",
    "    return pd.Series([faker.name() for _ in range(n)])\n",
    "\n",
    "\n",
    "def generate_birthdates(n):\n",
    "    \"\"\"Generate dummy birthdates.\"\"\"\n",
    "    return pd.Series(\n",
    "        [\n",
    "            faker.date_of_birth(minimum_age=18, maximum_age=100).strftime(\"%d-%m-%Y\")\n",
    "            for _ in range(n)\n",
    "        ]\n",
    "    )\n"
   ]
  },
  {
   "cell_type": "code",
   "execution_count": 4,
   "metadata": {},
   "outputs": [
    {
     "data": {
      "text/html": [
       "<div>\n",
       "<style scoped>\n",
       "    .dataframe tbody tr th:only-of-type {\n",
       "        vertical-align: middle;\n",
       "    }\n",
       "\n",
       "    .dataframe tbody tr th {\n",
       "        vertical-align: top;\n",
       "    }\n",
       "\n",
       "    .dataframe thead th {\n",
       "        text-align: right;\n",
       "    }\n",
       "</style>\n",
       "<table border=\"1\" class=\"dataframe\">\n",
       "  <thead>\n",
       "    <tr style=\"text-align: right;\">\n",
       "      <th></th>\n",
       "      <th>name</th>\n",
       "      <th>birthdate</th>\n",
       "      <th>national_id</th>\n",
       "    </tr>\n",
       "  </thead>\n",
       "  <tbody>\n",
       "    <tr>\n",
       "      <th>2578</th>\n",
       "      <td>Thijmen van den Bergh</td>\n",
       "      <td>09-07-1986</td>\n",
       "      <td>NLD8837681M1396167356249476</td>\n",
       "    </tr>\n",
       "    <tr>\n",
       "      <th>3095</th>\n",
       "      <td>Victor Coret</td>\n",
       "      <td>24-04-1927</td>\n",
       "      <td>NLD8346121F1700384145575625</td>\n",
       "    </tr>\n",
       "    <tr>\n",
       "      <th>2199</th>\n",
       "      <td>Aron Uit de Willigen</td>\n",
       "      <td>13-12-1938</td>\n",
       "      <td>NLD2418531M4134711299175494</td>\n",
       "    </tr>\n",
       "    <tr>\n",
       "      <th>1493</th>\n",
       "      <td>Alex Martens</td>\n",
       "      <td>02-07-2001</td>\n",
       "      <td>NLD5993351F8560675366192919</td>\n",
       "    </tr>\n",
       "    <tr>\n",
       "      <th>4807</th>\n",
       "      <td>Ravi Bastiaanse</td>\n",
       "      <td>23-06-1947</td>\n",
       "      <td>NLD6728214M9078530084067626</td>\n",
       "    </tr>\n",
       "  </tbody>\n",
       "</table>\n",
       "</div>"
      ],
      "text/plain": [
       "                       name   birthdate                  national_id\n",
       "2578  Thijmen van den Bergh  09-07-1986  NLD8837681M1396167356249476\n",
       "3095           Victor Coret  24-04-1927  NLD8346121F1700384145575625\n",
       "2199   Aron Uit de Willigen  13-12-1938  NLD2418531M4134711299175494\n",
       "1493           Alex Martens  02-07-2001  NLD5993351F8560675366192919\n",
       "4807        Ravi Bastiaanse  23-06-1947  NLD6728214M9078530084067626"
      ]
     },
     "execution_count": 4,
     "metadata": {},
     "output_type": "execute_result"
    }
   ],
   "source": [
    "n = 5_000\n",
    "data = pd.DataFrame({\n",
    "    \"name\": generate_names(n),\n",
    "    \"birthdate\": generate_birthdates(n),\n",
    "    \"national_id\": generate_ids(n),\n",
    "})\n",
    "data.sample(5)"
   ]
  },
  {
   "cell_type": "code",
   "execution_count": 5,
   "metadata": {},
   "outputs": [
    {
     "data": {
      "text/plain": [
       "name           4988\n",
       "birthdate      4593\n",
       "national_id    5000\n",
       "dtype: int64"
      ]
     },
     "execution_count": 5,
     "metadata": {},
     "output_type": "execute_result"
    }
   ],
   "source": [
    "data.nunique()"
   ]
  },
  {
   "cell_type": "code",
   "execution_count": 6,
   "metadata": {},
   "outputs": [],
   "source": [
    "encryption_key = AESGCM4Encryptor.generate_key()\n",
    "encryption_key = b\"\\x0e\\x84\\xa1\\x01\\xd0\\xed\\x932\\xb5\\x1dt\\x11\\x05\\xe5j\\xf8\""
   ]
  },
  {
   "cell_type": "code",
   "execution_count": null,
   "metadata": {},
   "outputs": [],
   "source": [
    "config = {\n",
    "    \"name\": {\n",
    "        \"algoritm\": \"vector\",\n",
    "        \"weight\": 0.2,\n",
    "    },\n",
    "    \"birthdate\": {\n",
    "        \"algoritm\": \"distance\",\n",
    "        \"weight\": 0.2,\n",
    "    },\n",
    "    \"national_id\": {\n",
    "        \"algoritm\": \"distance\",\n",
    "        \"weight\": 0.6\n",
    "    },\n",
    "}"
   ]
  },
  {
   "cell_type": "code",
   "execution_count": 8,
   "metadata": {},
   "outputs": [
    {
     "name": "stdout",
     "output_type": "stream",
     "text": [
      "Warning: Cannot find file storage\\storage_name.npz\n",
      "Warning: Cannot find file storage\\storage_name.dat\n",
      "Warning: Cannot find file storage\\storage_birthdate.dat\n",
      "Warning: Cannot find file storage\\storage_national_id.dat\n"
     ]
    }
   ],
   "source": [
    "matcher = MultiMatcher(10, config, encryption_key, \"storage\")"
   ]
  },
  {
   "cell_type": "code",
   "execution_count": 9,
   "metadata": {},
   "outputs": [],
   "source": [
    "matcher.create(data)"
   ]
  },
  {
   "cell_type": "code",
   "execution_count": 12,
   "metadata": {},
   "outputs": [
    {
     "data": {
      "text/html": [
       "<div>\n",
       "<style scoped>\n",
       "    .dataframe tbody tr th:only-of-type {\n",
       "        vertical-align: middle;\n",
       "    }\n",
       "\n",
       "    .dataframe tbody tr th {\n",
       "        vertical-align: top;\n",
       "    }\n",
       "\n",
       "    .dataframe thead th {\n",
       "        text-align: right;\n",
       "    }\n",
       "</style>\n",
       "<table border=\"1\" class=\"dataframe\">\n",
       "  <thead>\n",
       "    <tr style=\"text-align: right;\">\n",
       "      <th></th>\n",
       "      <th>name</th>\n",
       "      <th>birthdate</th>\n",
       "      <th>national_id</th>\n",
       "      <th>similarity</th>\n",
       "    </tr>\n",
       "  </thead>\n",
       "  <tbody>\n",
       "    <tr>\n",
       "      <th>d3aa2cfdeb2547349f4f7a2ef39f5da0</th>\n",
       "      <td>hanna weijters</td>\n",
       "      <td>19 11 2000</td>\n",
       "      <td>nld3041429m2520313357516153</td>\n",
       "      <td>0.380000</td>\n",
       "    </tr>\n",
       "    <tr>\n",
       "      <th>74848563f95f4037b702901f24bd9e03</th>\n",
       "      <td>wessel mulders</td>\n",
       "      <td>13 11 2000</td>\n",
       "      <td>nld1439370f4465776501724447</td>\n",
       "      <td>0.226154</td>\n",
       "    </tr>\n",
       "    <tr>\n",
       "      <th>1eea231df2b4406bb2a8d70267a41bb9</th>\n",
       "      <td>hannah van rijthoven</td>\n",
       "      <td>13 12 2002</td>\n",
       "      <td>nld9592911f4131053169607880</td>\n",
       "      <td>0.205372</td>\n",
       "    </tr>\n",
       "    <tr>\n",
       "      <th>fee8ed96d87b44258fe5236c14053155</th>\n",
       "      <td>brian weijters</td>\n",
       "      <td>17 06 1980</td>\n",
       "      <td>nld6628449f1589607425396994</td>\n",
       "      <td>0.203077</td>\n",
       "    </tr>\n",
       "    <tr>\n",
       "      <th>bb96d45d110646d7aed9c749e8563a49</th>\n",
       "      <td>luc weijters</td>\n",
       "      <td>15 06 1993</td>\n",
       "      <td>nld2202546f4689351815483858</td>\n",
       "      <td>0.193799</td>\n",
       "    </tr>\n",
       "    <tr>\n",
       "      <th>b8e70117d9724de6896aef5993d1c2f7</th>\n",
       "      <td>hanna lagerweij</td>\n",
       "      <td>18 12 1934</td>\n",
       "      <td>nld4512790m0236642628202766</td>\n",
       "      <td>0.183775</td>\n",
       "    </tr>\n",
       "    <tr>\n",
       "      <th>8d8b28221a5540ffb651a2c37c3275a0</th>\n",
       "      <td>lot buijs pieters</td>\n",
       "      <td>27 11 2003</td>\n",
       "      <td>nld5088399m2115227403458975</td>\n",
       "      <td>0.182967</td>\n",
       "    </tr>\n",
       "    <tr>\n",
       "      <th>4ea1a045f4484facb668587225171fac</th>\n",
       "      <td>lisanne sitters</td>\n",
       "      <td>19 11 1990</td>\n",
       "      <td>nld7219880f2183630948251834</td>\n",
       "      <td>0.179300</td>\n",
       "    </tr>\n",
       "    <tr>\n",
       "      <th>073b08d4311144a1a027ca4a5f4421ad</th>\n",
       "      <td>hannah dachgeldt</td>\n",
       "      <td>14 09 2005</td>\n",
       "      <td>nld6239342m0698755126793061</td>\n",
       "      <td>0.177289</td>\n",
       "    </tr>\n",
       "    <tr>\n",
       "      <th>df3a4aaa3b7d407c8723a7d8831de2ff</th>\n",
       "      <td>valerie van westfalen</td>\n",
       "      <td>13 12 2000</td>\n",
       "      <td>nld3234526f4478501624590154</td>\n",
       "      <td>0.171566</td>\n",
       "    </tr>\n",
       "  </tbody>\n",
       "</table>\n",
       "</div>"
      ],
      "text/plain": [
       "                                                   name   birthdate  \\\n",
       "d3aa2cfdeb2547349f4f7a2ef39f5da0         hanna weijters  19 11 2000   \n",
       "74848563f95f4037b702901f24bd9e03         wessel mulders  13 11 2000   \n",
       "1eea231df2b4406bb2a8d70267a41bb9   hannah van rijthoven  13 12 2002   \n",
       "fee8ed96d87b44258fe5236c14053155         brian weijters  17 06 1980   \n",
       "bb96d45d110646d7aed9c749e8563a49           luc weijters  15 06 1993   \n",
       "b8e70117d9724de6896aef5993d1c2f7        hanna lagerweij  18 12 1934   \n",
       "8d8b28221a5540ffb651a2c37c3275a0      lot buijs pieters  27 11 2003   \n",
       "4ea1a045f4484facb668587225171fac        lisanne sitters  19 11 1990   \n",
       "073b08d4311144a1a027ca4a5f4421ad       hannah dachgeldt  14 09 2005   \n",
       "df3a4aaa3b7d407c8723a7d8831de2ff  valerie van westfalen  13 12 2000   \n",
       "\n",
       "                                                  national_id  similarity  \n",
       "d3aa2cfdeb2547349f4f7a2ef39f5da0  nld3041429m2520313357516153    0.380000  \n",
       "74848563f95f4037b702901f24bd9e03  nld1439370f4465776501724447    0.226154  \n",
       "1eea231df2b4406bb2a8d70267a41bb9  nld9592911f4131053169607880    0.205372  \n",
       "fee8ed96d87b44258fe5236c14053155  nld6628449f1589607425396994    0.203077  \n",
       "bb96d45d110646d7aed9c749e8563a49  nld2202546f4689351815483858    0.193799  \n",
       "b8e70117d9724de6896aef5993d1c2f7  nld4512790m0236642628202766    0.183775  \n",
       "8d8b28221a5540ffb651a2c37c3275a0  nld5088399m2115227403458975    0.182967  \n",
       "4ea1a045f4484facb668587225171fac  nld7219880f2183630948251834    0.179300  \n",
       "073b08d4311144a1a027ca4a5f4421ad  nld6239342m0698755126793061    0.177289  \n",
       "df3a4aaa3b7d407c8723a7d8831de2ff  nld3234526f4478501624590154    0.171566  "
      ]
     },
     "execution_count": 12,
     "metadata": {},
     "output_type": "execute_result"
    }
   ],
   "source": [
    "result = matcher.get({\n",
    "    \"name\": \"Weijters Hanna\",\n",
    "    \"birthdate\": \"16-11-2000\",\n",
    "    \"national_id\": \"nld3041429m2520313357516153\"\n",
    "})\n",
    "result"
   ]
  },
  {
   "cell_type": "code",
   "execution_count": null,
   "metadata": {},
   "outputs": [],
   "source": []
  }
 ],
 "metadata": {
  "kernelspec": {
   "display_name": ".venv",
   "language": "python",
   "name": "python3"
  },
  "language_info": {
   "codemirror_mode": {
    "name": "ipython",
    "version": 3
   },
   "file_extension": ".py",
   "mimetype": "text/x-python",
   "name": "python",
   "nbconvert_exporter": "python",
   "pygments_lexer": "ipython3",
   "version": "3.13.1"
  }
 },
 "nbformat": 4,
 "nbformat_minor": 2
}
