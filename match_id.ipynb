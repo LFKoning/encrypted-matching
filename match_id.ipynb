{
 "cells": [
  {
   "cell_type": "code",
   "execution_count": 2,
   "metadata": {},
   "outputs": [],
   "source": [
    "import random\n",
    "\n",
    "import pandas as pd\n",
    "\n",
    "from thefuzz import fuzz\n",
    "\n",
    "from rapidfuzz import fuzz as rapid_fuzz\n",
    "from rapidfuzz.process import cdist\n",
    "from rapidfuzz.distance.OSA import normalized_distance\n"
   ]
  },
  {
   "cell_type": "code",
   "execution_count": 3,
   "metadata": {},
   "outputs": [],
   "source": [
    "def generate_ids():\n",
    "    \"\"\"Generate ID-like strings.\"\"\"\n",
    "    while True:\n",
    "        country_code = \"NLD\"\n",
    "        gender = random.choice([\"M\", \"F\"])\n",
    "        first = f\"{random.randint(0, 9999999):07d}\"\n",
    "        second = f\"{random.randint(0, 9999999999999999):016d}\"\n",
    "\n",
    "        yield f\"{country_code}{first}{gender}{second}\"\n",
    "\n",
    "\n",
    "def similarity(target_id: str, search_ids: pd.Series) -> pd.Series:\n",
    "    \"\"\"Compute Levenhstein distance between IDs.\"\"\"\n",
    "    return search_ids.map(lambda search_id: fuzz.ratio(target_id, search_id))\n",
    "\n",
    "\n",
    "def rapid_similarity(target_id: str, search_ids: pd.Series) -> pd.Series:\n",
    "    \"\"\"Compute Levenhstein distance between IDs.\"\"\"\n",
    "    return pd.Series(\n",
    "        cdist([target_id], search_ids, scorer=rapid_fuzz.ratio, workers=-1)[0]\n",
    "    )\n",
    "\n",
    "\n",
    "def rapid_distance(target_id: str, search_ids: pd.Series) -> pd.Series:\n",
    "    \"\"\"Compute Optimal String Alignment distance between IDs.\"\"\"\n",
    "    return pd.Series(\n",
    "        cdist([target_id], search_ids, scorer=normalized_distance, workers=-1)[0]\n",
    "    )\n",
    "\n",
    "def equality(target_id: str, search_ids: pd.Series) -> pd.Series:\n",
    "    \"\"\"Compare an ID to a list of IDs.\"\"\"\n",
    "    return search_ids.map(lambda search_id: search_id == target_id)"
   ]
  },
  {
   "cell_type": "code",
   "execution_count": 4,
   "metadata": {},
   "outputs": [],
   "source": [
    "id_generator = generate_ids()"
   ]
  },
  {
   "cell_type": "code",
   "execution_count": 5,
   "metadata": {},
   "outputs": [
    {
     "data": {
      "text/plain": [
       "3752767    NLD0692483F3900925858137983\n",
       "3831479    NLD5856613M7312244015824872\n",
       "2880786    NLD9058402M3025470748439810\n",
       "3359251    NLD1606522F6870474771725584\n",
       "4501183    NLD8753790F7431314311308451\n",
       "dtype: object"
      ]
     },
     "execution_count": 5,
     "metadata": {},
     "output_type": "execute_result"
    }
   ],
   "source": [
    "n = 5_000_000\n",
    "ids = pd.Series([next(id_generator) for _ in range(n)])\n",
    "ids.sample(5)"
   ]
  },
  {
   "cell_type": "code",
   "execution_count": 6,
   "metadata": {},
   "outputs": [],
   "source": [
    "top_n = 10"
   ]
  },
  {
   "cell_type": "code",
   "execution_count": 7,
   "metadata": {},
   "outputs": [
    {
     "data": {
      "text/plain": [
       "0          100.000000\n",
       "1743341     70.370369\n",
       "359561      70.370369\n",
       "4998098     70.370369\n",
       "4512947     70.370369\n",
       "4763983     70.370369\n",
       "4450562     70.370369\n",
       "2578677     70.370369\n",
       "2279892     70.370369\n",
       "3266551     70.370369\n",
       "dtype: float32"
      ]
     },
     "execution_count": 7,
     "metadata": {},
     "output_type": "execute_result"
    }
   ],
   "source": [
    "similarities = rapid_similarity(ids[0], ids).sort_values(ascending=False)\n",
    "similarities.head(top_n)"
   ]
  },
  {
   "cell_type": "code",
   "execution_count": 8,
   "metadata": {},
   "outputs": [
    {
     "data": {
      "text/plain": [
       "0          NLD5138782M8106782233209304\n",
       "1743341    NLD4535882M8978237695352090\n",
       "359561     NLD3591847M8101738922553309\n",
       "4998098    NLD0387820M1623392936063450\n",
       "4512947    NLD5137862M2808200338109193\n",
       "4763983    NLD1238828M8036470862240230\n",
       "4450562    NLD6589828F1107126233720730\n",
       "2578677    NLD5348782M0496053329385046\n",
       "2279892    NLD7873872M5810718283393901\n",
       "3266551    NLD3561878M1267487233208549\n",
       "dtype: object"
      ]
     },
     "execution_count": 8,
     "metadata": {},
     "output_type": "execute_result"
    }
   ],
   "source": [
    "ids.iloc[similarities.index[0:top_n]]"
   ]
  },
  {
   "cell_type": "code",
   "execution_count": 9,
   "metadata": {},
   "outputs": [
    {
     "data": {
      "text/plain": [
       "0          0.000000\n",
       "272586     0.407407\n",
       "2152479    0.407407\n",
       "2161794    0.407407\n",
       "1442101    0.407407\n",
       "4003177    0.407407\n",
       "1131164    0.407407\n",
       "4791544    0.407407\n",
       "4224757    0.407407\n",
       "126786     0.407407\n",
       "dtype: float32"
      ]
     },
     "execution_count": 9,
     "metadata": {},
     "output_type": "execute_result"
    }
   ],
   "source": [
    "distances = rapid_distance(ids[0], ids).sort_values(ascending=True)\n",
    "distances.head(top_n)"
   ]
  },
  {
   "cell_type": "code",
   "execution_count": 10,
   "metadata": {},
   "outputs": [
    {
     "data": {
      "text/plain": [
       "0          NLD5138782M8106782233209304\n",
       "272586     NLD5113822M7636742235509006\n",
       "2152479    NLD5190078M1029978263320974\n",
       "2161794    NLD5387758F0037814233509354\n",
       "1442101    NLD8138733M8360702833587204\n",
       "4003177    NLD8719078M2815622335209357\n",
       "1131164    NLD6183382M8106292236074749\n",
       "4791544    NLD5195142M8906783260286204\n",
       "4224757    NLD2638780F8113902233069324\n",
       "126786     NLD5336682M8104762836950931\n",
       "dtype: object"
      ]
     },
     "execution_count": 10,
     "metadata": {},
     "output_type": "execute_result"
    }
   ],
   "source": [
    "ids.iloc[distances.index[0:top_n]]"
   ]
  },
  {
   "cell_type": "code",
   "execution_count": 11,
   "metadata": {},
   "outputs": [
    {
     "name": "stdout",
     "output_type": "stream",
     "text": [
      "5.51 s ± 92.7 ms per loop (mean ± std. dev. of 7 runs, 1 loop each)\n"
     ]
    }
   ],
   "source": [
    "%timeit similarity(ids[0], ids)"
   ]
  },
  {
   "cell_type": "code",
   "execution_count": 12,
   "metadata": {},
   "outputs": [
    {
     "name": "stdout",
     "output_type": "stream",
     "text": [
      "836 ms ± 1.38 ms per loop (mean ± std. dev. of 7 runs, 1 loop each)\n"
     ]
    }
   ],
   "source": [
    "%timeit rapid_similarity(ids[0], ids)"
   ]
  },
  {
   "cell_type": "code",
   "execution_count": 13,
   "metadata": {},
   "outputs": [
    {
     "name": "stdout",
     "output_type": "stream",
     "text": [
      "1.19 s ± 3.78 ms per loop (mean ± std. dev. of 7 runs, 1 loop each)\n"
     ]
    }
   ],
   "source": [
    "%timeit rapid_distance(ids[0], ids)"
   ]
  },
  {
   "cell_type": "code",
   "execution_count": 14,
   "metadata": {},
   "outputs": [
    {
     "name": "stdout",
     "output_type": "stream",
     "text": [
      "969 ms ± 5.01 ms per loop (mean ± std. dev. of 7 runs, 1 loop each)\n"
     ]
    }
   ],
   "source": [
    "%timeit equality(ids[0], ids)"
   ]
  },
  {
   "cell_type": "code",
   "execution_count": null,
   "metadata": {},
   "outputs": [],
   "source": []
  }
 ],
 "metadata": {
  "kernelspec": {
   "display_name": "fuzzy-matching",
   "language": "python",
   "name": "python3"
  },
  "language_info": {
   "codemirror_mode": {
    "name": "ipython",
    "version": 3
   },
   "file_extension": ".py",
   "mimetype": "text/x-python",
   "name": "python",
   "nbconvert_exporter": "python",
   "pygments_lexer": "ipython3",
   "version": "3.11.11"
  }
 },
 "nbformat": 4,
 "nbformat_minor": 2
}
